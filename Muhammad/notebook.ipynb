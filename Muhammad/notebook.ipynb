{
 "cells": [
  {
   "cell_type": "code",
   "execution_count": 1,
   "metadata": {
    "pycharm": {
     "name": "#%%\n"
    }
   },
   "outputs": [],
   "source": [
    "import numpy as np\n",
    "import pandas as pd\n",
    "import matplotlib.pyplot as plt\n",
    "\n",
    "from scipy import interp\n",
    "import matplotlib.pyplot as plt\n",
    "from itertools import cycle\n",
    "from sklearn.metrics import roc_curve, auc\n",
    "\n",
    "from sklearn.preprocessing import LabelEncoder\n",
    "from sklearn.preprocessing import StandardScaler\n",
    "\n",
    "from sklearn.model_selection import train_test_split\n",
    "from sklearn.model_selection import cross_validate\n",
    "\n",
    "from sklearn.feature_selection import SelectKBest\n",
    "from sklearn.feature_selection import mutual_info_classif\n",
    "\n",
    "from sklearn.linear_model import LogisticRegression\n",
    "from sklearn.svm import SVC\n",
    "from sklearn.ensemble import RandomForestClassifier\n",
    "\n",
    "\n",
    "from sklearn.metrics import confusion_matrix\n",
    "from sklearn.metrics import classification_report\n",
    "from sklearn.metrics import precision_recall_fscore_support\n",
    "from sklearn.metrics import accuracy_score"
   ]
  },
  {
   "cell_type": "code",
   "execution_count": 2,
   "metadata": {
    "pycharm": {
     "name": "#%%\n"
    }
   },
   "outputs": [],
   "source": [
    "file_path = \"hepaa.csv\"\n",
    "\n",
    "data = pd.read_csv(file_path)"
   ]
  },
  {
   "cell_type": "code",
   "execution_count": 3,
   "metadata": {
    "pycharm": {
     "name": "#%%\n"
    }
   },
   "outputs": [
    {
     "data": {
      "text/plain": [
       "(307, 20)"
      ]
     },
     "execution_count": 3,
     "metadata": {},
     "output_type": "execute_result"
    }
   ],
   "source": [
    "data.shape"
   ]
  },
  {
   "cell_type": "code",
   "execution_count": 4,
   "metadata": {
    "pycharm": {
     "name": "#%%\n"
    }
   },
   "outputs": [],
   "source": [
    "#data[\"y.BMI\"] = data[\"y.BMI\"].fillna(data[\"y.BMI\"].median())\n",
    "#data[\"x.HEP.C.RNA\"] = data[\"x.HEP.C.RNA\"].fillna(data[\"x.HEP.C.RNA\"].mode()[0])\n",
    "#data[\"x.Hep.B\"] = data[\"x.Hep.B\"].fillna(data[\"x.Hep.B\"].mode()[0])\n",
    "#data[\"y.Admission.INR\"] = data[\"y.Admission.INR\"].fillna(data[\"y.Admission.INR\"].median())\n",
    "#data[\"y.Adm.Platelet\"] = data[\"y.Adm.Platelet\"].fillna(data[\"y.Adm.Platelet\"].median())\n",
    "data = data.fillna(data.mode().iloc[0])"
   ]
  },
  {
   "cell_type": "code",
   "execution_count": 5,
   "metadata": {
    "pycharm": {
     "name": "#%%\n"
    }
   },
   "outputs": [
    {
     "data": {
      "text/html": [
       "<div>\n",
       "<style scoped>\n",
       "    .dataframe tbody tr th:only-of-type {\n",
       "        vertical-align: middle;\n",
       "    }\n",
       "\n",
       "    .dataframe tbody tr th {\n",
       "        vertical-align: top;\n",
       "    }\n",
       "\n",
       "    .dataframe thead th {\n",
       "        text-align: right;\n",
       "    }\n",
       "</style>\n",
       "<table border=\"1\" class=\"dataframe\">\n",
       "  <thead>\n",
       "    <tr style=\"text-align: right;\">\n",
       "      <th></th>\n",
       "      <th>y.AGE</th>\n",
       "      <th>x.GEND</th>\n",
       "      <th>y.BMI</th>\n",
       "      <th>x.HEP.C.RNA</th>\n",
       "      <th>x.Hep.B</th>\n",
       "      <th>x.alcohol.use</th>\n",
       "      <th>x.Cirrhosis</th>\n",
       "      <th>y.Adm.Bili</th>\n",
       "      <th>y.Admission.INR</th>\n",
       "      <th>y.Adm.Cr</th>\n",
       "      <th>y.Adm.Na</th>\n",
       "      <th>y.Adm.ALT</th>\n",
       "      <th>y.Adm.AST</th>\n",
       "      <th>y.Adm.ALP</th>\n",
       "      <th>y.Adm.Platelet</th>\n",
       "      <th>x.DM</th>\n",
       "      <th>x.HTN</th>\n",
       "      <th>y.Adm.Alb</th>\n",
       "      <th>y.Adm.WBC</th>\n",
       "      <th>z.bad</th>\n",
       "    </tr>\n",
       "  </thead>\n",
       "  <tbody>\n",
       "    <tr>\n",
       "      <th>0</th>\n",
       "      <td>26</td>\n",
       "      <td>F</td>\n",
       "      <td>20.4</td>\n",
       "      <td>P</td>\n",
       "      <td>N</td>\n",
       "      <td>SOC</td>\n",
       "      <td>N</td>\n",
       "      <td>3.0</td>\n",
       "      <td>1.3</td>\n",
       "      <td>0.48</td>\n",
       "      <td>137</td>\n",
       "      <td>1892</td>\n",
       "      <td>1443</td>\n",
       "      <td>270</td>\n",
       "      <td>111.0</td>\n",
       "      <td>N</td>\n",
       "      <td>N</td>\n",
       "      <td>3.0</td>\n",
       "      <td>3.0</td>\n",
       "      <td>N</td>\n",
       "    </tr>\n",
       "    <tr>\n",
       "      <th>1</th>\n",
       "      <td>61</td>\n",
       "      <td>M</td>\n",
       "      <td>28.0</td>\n",
       "      <td>N</td>\n",
       "      <td>P</td>\n",
       "      <td>SOC</td>\n",
       "      <td>Y</td>\n",
       "      <td>19.7</td>\n",
       "      <td>1.6</td>\n",
       "      <td>1.24</td>\n",
       "      <td>136</td>\n",
       "      <td>168</td>\n",
       "      <td>231</td>\n",
       "      <td>165</td>\n",
       "      <td>61.0</td>\n",
       "      <td>Y</td>\n",
       "      <td>N</td>\n",
       "      <td>1.8</td>\n",
       "      <td>4.8</td>\n",
       "      <td>Y</td>\n",
       "    </tr>\n",
       "    <tr>\n",
       "      <th>2</th>\n",
       "      <td>42</td>\n",
       "      <td>F</td>\n",
       "      <td>25.9</td>\n",
       "      <td>N</td>\n",
       "      <td>N</td>\n",
       "      <td>SOC</td>\n",
       "      <td>N</td>\n",
       "      <td>10.3</td>\n",
       "      <td>1.1</td>\n",
       "      <td>0.69</td>\n",
       "      <td>135</td>\n",
       "      <td>1101</td>\n",
       "      <td>555</td>\n",
       "      <td>1101</td>\n",
       "      <td>201.0</td>\n",
       "      <td>N</td>\n",
       "      <td>N</td>\n",
       "      <td>2.5</td>\n",
       "      <td>7.5</td>\n",
       "      <td>N</td>\n",
       "    </tr>\n",
       "    <tr>\n",
       "      <th>3</th>\n",
       "      <td>36</td>\n",
       "      <td>M</td>\n",
       "      <td>17.7</td>\n",
       "      <td>P</td>\n",
       "      <td>N</td>\n",
       "      <td>SOC</td>\n",
       "      <td>N</td>\n",
       "      <td>1.9</td>\n",
       "      <td>1.1</td>\n",
       "      <td>0.75</td>\n",
       "      <td>138</td>\n",
       "      <td>374</td>\n",
       "      <td>73</td>\n",
       "      <td>182</td>\n",
       "      <td>329.0</td>\n",
       "      <td>N</td>\n",
       "      <td>N</td>\n",
       "      <td>3.3</td>\n",
       "      <td>9.1</td>\n",
       "      <td>N</td>\n",
       "    </tr>\n",
       "    <tr>\n",
       "      <th>4</th>\n",
       "      <td>55</td>\n",
       "      <td>F</td>\n",
       "      <td>18.7</td>\n",
       "      <td>N</td>\n",
       "      <td>N</td>\n",
       "      <td>SOC</td>\n",
       "      <td>N</td>\n",
       "      <td>5.3</td>\n",
       "      <td>3.0</td>\n",
       "      <td>0.94</td>\n",
       "      <td>136</td>\n",
       "      <td>4940</td>\n",
       "      <td>5791</td>\n",
       "      <td>216</td>\n",
       "      <td>283.0</td>\n",
       "      <td>N</td>\n",
       "      <td>N</td>\n",
       "      <td>2.3</td>\n",
       "      <td>15.5</td>\n",
       "      <td>N</td>\n",
       "    </tr>\n",
       "  </tbody>\n",
       "</table>\n",
       "</div>"
      ],
      "text/plain": [
       "   y.AGE x.GEND  y.BMI x.HEP.C.RNA x.Hep.B x.alcohol.use x.Cirrhosis  \\\n",
       "0     26      F   20.4           P       N           SOC           N   \n",
       "1     61      M   28.0           N       P           SOC           Y   \n",
       "2     42      F   25.9           N       N           SOC           N   \n",
       "3     36      M   17.7           P       N           SOC           N   \n",
       "4     55      F   18.7           N       N           SOC           N   \n",
       "\n",
       "   y.Adm.Bili  y.Admission.INR  y.Adm.Cr  y.Adm.Na  y.Adm.ALT  y.Adm.AST  \\\n",
       "0         3.0              1.3      0.48       137       1892       1443   \n",
       "1        19.7              1.6      1.24       136        168        231   \n",
       "2        10.3              1.1      0.69       135       1101        555   \n",
       "3         1.9              1.1      0.75       138        374         73   \n",
       "4         5.3              3.0      0.94       136       4940       5791   \n",
       "\n",
       "   y.Adm.ALP  y.Adm.Platelet x.DM x.HTN  y.Adm.Alb  y.Adm.WBC z.bad  \n",
       "0        270           111.0    N     N        3.0        3.0     N  \n",
       "1        165            61.0    Y     N        1.8        4.8     Y  \n",
       "2       1101           201.0    N     N        2.5        7.5     N  \n",
       "3        182           329.0    N     N        3.3        9.1     N  \n",
       "4        216           283.0    N     N        2.3       15.5     N  "
      ]
     },
     "execution_count": 5,
     "metadata": {},
     "output_type": "execute_result"
    }
   ],
   "source": [
    "data.head()"
   ]
  },
  {
   "cell_type": "code",
   "execution_count": 6,
   "metadata": {
    "pycharm": {
     "name": "#%%\n"
    }
   },
   "outputs": [],
   "source": [
    "X = data.iloc[:, [0,1,2,3,4,6,7,8,9,10,11,13,14,15,16,17,18]].values\n",
    "#X = data.iloc[:, [0,7,8,9,10,11,14]].values\n",
    "y = data.iloc[:, -1].values"
   ]
  },
  {
   "cell_type": "code",
   "execution_count": 7,
   "metadata": {
    "pycharm": {
     "name": "#%%\n"
    }
   },
   "outputs": [],
   "source": [
    "lb = LabelEncoder()\n",
    "X[:, 1] = lb.fit_transform(X[:, 1])\n",
    "\n",
    "X[:, 3] = lb.fit_transform(X[:, 3])\n",
    "\n",
    "X[:, 4] = lb.fit_transform(X[:, 4])\n",
    "\n",
    "X[:, 5] = lb.fit_transform(X[:, 5])\n",
    "\n",
    "X[:, 13] = lb.fit_transform(X[:, 13])\n",
    "\n",
    "X[:, 14] = lb.fit_transform(X[:, 14])\n"
   ]
  },
  {
   "cell_type": "code",
   "execution_count": 8,
   "metadata": {
    "pycharm": {
     "name": "#%%\n"
    }
   },
   "outputs": [
    {
     "data": {
      "text/plain": [
       "array([26, 0, 20.4, 1, 0, 0, 3.0, 1.3, 0.48, 137, 1892, 270, 111.0, 0, 0,\n",
       "       3.0, 3.0], dtype=object)"
      ]
     },
     "execution_count": 8,
     "metadata": {},
     "output_type": "execute_result"
    }
   ],
   "source": [
    "X[0]"
   ]
  },
  {
   "cell_type": "code",
   "execution_count": 9,
   "metadata": {
    "pycharm": {
     "name": "#%%\n"
    }
   },
   "outputs": [],
   "source": [
    "y = lb.fit_transform(y)"
   ]
  },
  {
   "cell_type": "code",
   "execution_count": 10,
   "metadata": {
    "pycharm": {
     "name": "#%%\n"
    }
   },
   "outputs": [],
   "source": [
    "X_train, X_test, y_train, y_test = train_test_split(X, y, test_size = 0.2, random_state = 0)"
   ]
  },
  {
   "cell_type": "code",
   "execution_count": 11,
   "metadata": {
    "pycharm": {
     "name": "#%%\n"
    }
   },
   "outputs": [],
   "source": [
    "sc_X = StandardScaler()\n",
    "X_train = sc_X.fit_transform(X_train)\n",
    "X_test = sc_X.fit_transform(X_test)"
   ]
  },
  {
   "cell_type": "code",
   "execution_count": 12,
   "metadata": {
    "pycharm": {
     "name": "#%%\n"
    }
   },
   "outputs": [
    {
     "name": "stdout",
     "output_type": "stream",
     "text": [
      "Feature 7: 0.116236\n",
      "Feature 8: 0.181828\n",
      "Selectrd features are:\n"
     ]
    }
   ],
   "source": [
    "#feature selection\n",
    "\n",
    "fs = SelectKBest(score_func=mutual_info_classif, k=3)\n",
    "\n",
    "fs.fit(X_train, y_train)\n",
    "X_train_fs = fs.transform(X_train)\n",
    "X_test_fs = fs.transform(X_test)\n",
    "\n",
    "for i in range(len(fs.scores_)):\n",
    "    if fs.scores_[i] > 0.08:\n",
    "        print('Feature %d: %f' % (i, fs.scores_[i]))\n",
    "\n",
    "#Features 5, 7, and 8\n",
    "print('Selectrd features are:')\n"
   ]
  },
  {
   "cell_type": "code",
   "execution_count": 13,
   "metadata": {
    "pycharm": {
     "name": "#%%\n"
    }
   },
   "outputs": [],
   "source": [
    "# Creating new data that contains only the most effective features\n",
    "new_data = data[['x.Cirrhosis', 'y.Admission.INR', 'y.Adm.Cr', 'z.bad']]"
   ]
  },
  {
   "cell_type": "code",
   "execution_count": 14,
   "metadata": {
    "pycharm": {
     "name": "#%%\n"
    }
   },
   "outputs": [
    {
     "data": {
      "text/html": [
       "<div>\n",
       "<style scoped>\n",
       "    .dataframe tbody tr th:only-of-type {\n",
       "        vertical-align: middle;\n",
       "    }\n",
       "\n",
       "    .dataframe tbody tr th {\n",
       "        vertical-align: top;\n",
       "    }\n",
       "\n",
       "    .dataframe thead th {\n",
       "        text-align: right;\n",
       "    }\n",
       "</style>\n",
       "<table border=\"1\" class=\"dataframe\">\n",
       "  <thead>\n",
       "    <tr style=\"text-align: right;\">\n",
       "      <th></th>\n",
       "      <th>x.Cirrhosis</th>\n",
       "      <th>y.Admission.INR</th>\n",
       "      <th>y.Adm.Cr</th>\n",
       "      <th>z.bad</th>\n",
       "    </tr>\n",
       "  </thead>\n",
       "  <tbody>\n",
       "    <tr>\n",
       "      <th>0</th>\n",
       "      <td>N</td>\n",
       "      <td>1.3</td>\n",
       "      <td>0.48</td>\n",
       "      <td>N</td>\n",
       "    </tr>\n",
       "  </tbody>\n",
       "</table>\n",
       "</div>"
      ],
      "text/plain": [
       "  x.Cirrhosis  y.Admission.INR  y.Adm.Cr z.bad\n",
       "0           N              1.3      0.48     N"
      ]
     },
     "execution_count": 14,
     "metadata": {},
     "output_type": "execute_result"
    }
   ],
   "source": [
    "new_data.head(1)"
   ]
  },
  {
   "cell_type": "code",
   "execution_count": 15,
   "metadata": {
    "pycharm": {
     "name": "#%%\n"
    }
   },
   "outputs": [],
   "source": [
    "X = new_data.iloc[:, [0,1,2]].values\n",
    "y = data.iloc[:, -1].values"
   ]
  },
  {
   "cell_type": "code",
   "execution_count": 16,
   "metadata": {
    "pycharm": {
     "name": "#%%\n"
    }
   },
   "outputs": [
    {
     "name": "stdout",
     "output_type": "stream",
     "text": [
      "[0 1.3 0.48]\n",
      "0\n"
     ]
    }
   ],
   "source": [
    "lb = LabelEncoder()\n",
    "X[:, 0] = lb.fit_transform(X[:, 0])\n",
    "y = lb.fit_transform(y)\n",
    "print(X[0])\n",
    "print(y[0])"
   ]
  },
  {
   "cell_type": "code",
   "execution_count": 17,
   "metadata": {
    "pycharm": {
     "name": "#%%\n"
    }
   },
   "outputs": [],
   "source": [
    "X_train, X_test, y_train, y_test = train_test_split(X, y, test_size = 0.2, random_state = 0)"
   ]
  },
  {
   "cell_type": "code",
   "execution_count": 18,
   "metadata": {
    "pycharm": {
     "name": "#%%\n"
    }
   },
   "outputs": [
    {
     "data": {
      "text/plain": [
       "LogisticRegression(random_state=0)"
      ]
     },
     "execution_count": 18,
     "metadata": {},
     "output_type": "execute_result"
    }
   ],
   "source": [
    "logistic_classifier = LogisticRegression(random_state = 0)\n",
    "\n",
    "logistic_classifier.fit(X_train, y_train)"
   ]
  },
  {
   "cell_type": "code",
   "execution_count": 19,
   "metadata": {
    "pycharm": {
     "name": "#%%\n"
    }
   },
   "outputs": [],
   "source": [
    "y_pred_lg = logistic_classifier.predict(X_test)"
   ]
  },
  {
   "cell_type": "code",
   "execution_count": 20,
   "metadata": {
    "pycharm": {
     "name": "#%%\n"
    }
   },
   "outputs": [
    {
     "data": {
      "text/plain": [
       "array([[51,  0],\n",
       "       [ 3,  8]])"
      ]
     },
     "execution_count": 20,
     "metadata": {},
     "output_type": "execute_result"
    }
   ],
   "source": [
    "logistic_cm = confusion_matrix(y_test, y_pred_lg)\n",
    "logistic_cm"
   ]
  },
  {
   "cell_type": "code",
   "execution_count": 21,
   "metadata": {
    "pycharm": {
     "name": "#%%\n"
    }
   },
   "outputs": [
    {
     "name": "stdout",
     "output_type": "stream",
     "text": [
      "Logistic Regression accuracy: 0.9516129032258065\n"
     ]
    }
   ],
   "source": [
    "print('Logistic Regression accuracy:' , accuracy_score(y_test, y_pred_lg))"
   ]
  },
  {
   "cell_type": "code",
   "execution_count": 22,
   "metadata": {
    "pycharm": {
     "name": "#%%\n"
    }
   },
   "outputs": [
    {
     "data": {
      "text/plain": [
       "{'fit_time': array([0.00625777, 0.00369501, 0.00307512, 0.00311399, 0.00295591]),\n",
       " 'score_time': array([0.00046396, 0.00024104, 0.00022197, 0.0002079 , 0.00020409]),\n",
       " 'test_score': array([0.9516129 , 0.88709677, 0.95081967, 0.91803279, 0.91803279])}"
      ]
     },
     "execution_count": 22,
     "metadata": {},
     "output_type": "execute_result"
    }
   ],
   "source": [
    "cross_validate(logistic_classifier, X, y)"
   ]
  },
  {
   "cell_type": "code",
   "execution_count": 23,
   "metadata": {
    "pycharm": {
     "name": "#%%\n"
    }
   },
   "outputs": [
    {
     "name": "stdout",
     "output_type": "stream",
     "text": [
      "              precision    recall  f1-score   support\n",
      "\n",
      "         Yes       0.94      1.00      0.97        51\n",
      "          No       1.00      0.73      0.84        11\n",
      "\n",
      "    accuracy                           0.95        62\n",
      "   macro avg       0.97      0.86      0.91        62\n",
      "weighted avg       0.95      0.95      0.95        62\n",
      "\n"
     ]
    }
   ],
   "source": [
    "print(classification_report(y_test, y_pred_lg, target_names=['Yes', 'No']))"
   ]
  },
  {
   "cell_type": "code",
   "execution_count": 24,
   "metadata": {
    "pycharm": {
     "name": "#%%\n"
    }
   },
   "outputs": [],
   "source": [
    "# Drawing ROC function\n",
    "def draw_roc(n_classes, y_test, y_pred, plot_title):\n",
    "\n",
    "    # Compute ROC curve and ROC area for each class\n",
    "    fpr = dict()\n",
    "    tpr = dict()\n",
    "    roc_auc = dict()\n",
    "    for i in range(n_classes):\n",
    "        fpr[i], tpr[i], _ = roc_curve(y_test, y_pred)\n",
    "        roc_auc[i] = auc(fpr[i], tpr[i])\n",
    "\n",
    "\n",
    "    # Plot all ROC curves\n",
    "    plt.figure(1)\n",
    "    colors = cycle(['aqua', 'darkorange'])\n",
    "\n",
    "    for i, color in zip(range(n_classes), colors):\n",
    "        plt.plot(fpr[i], tpr[i], color=color, lw=2, label='ROC curve of class {0} (area = {1:0.2f})'.format(i, roc_auc[i]))\n",
    "        plt.plot([0, 1], [0, 1], 'k--', lw=2)\n",
    "        plt.xlim([-0.05, 1.0])\n",
    "        plt.ylim([0.0, 1.05])\n",
    "        plt.xlabel('False Positive Rate')\n",
    "        plt.ylabel('True Positive Rate')\n",
    "        plt.title(plot_title)\n",
    "        plt.legend(loc=\"lower right\")"
   ]
  },
  {
   "cell_type": "code",
   "execution_count": 25,
   "metadata": {
    "pycharm": {
     "name": "#%%\n"
    }
   },
   "outputs": [
    {
     "data": {
      "image/png": "[encoded data removed]",
      "text/plain": [
       "<Figure size 432x288 with 1 Axes>"
      ]
     },
     "metadata": {
      "needs_background": "light"
     },
     "output_type": "display_data"
    }
   ],
   "source": [
    "draw_roc(2, y_test, y_pred_lg, 'ROC - Logistic Regression')"
   ]
  },
  {
   "cell_type": "code",
   "execution_count": 26,
   "metadata": {
    "pycharm": {
     "name": "#%%\n"
    }
   },
   "outputs": [
    {
     "data": {
      "text/plain": [
       "SVC(kernel='linear', random_state=0)"
      ]
     },
     "execution_count": 26,
     "metadata": {},
     "output_type": "execute_result"
    }
   ],
   "source": [
    "svc_classifier = SVC(kernel = 'linear', random_state = 0)\n",
    "svc_classifier.fit(X_train_fs, y_train)"
   ]
  },
  {
   "cell_type": "code",
   "execution_count": 27,
   "metadata": {
    "pycharm": {
     "name": "#%%\n"
    }
   },
   "outputs": [],
   "source": [
    "y_pred_svc = svc_classifier.predict(X_test_fs)"
   ]
  },
  {
   "cell_type": "code",
   "execution_count": 28,
   "metadata": {
    "pycharm": {
     "name": "#%%\n"
    }
   },
   "outputs": [
    {
     "data": {
      "text/plain": [
       "array([[51,  0],\n",
       "       [ 3,  8]])"
      ]
     },
     "execution_count": 28,
     "metadata": {},
     "output_type": "execute_result"
    }
   ],
   "source": [
    "svc_cm = confusion_matrix(y_test, y_pred_svc)\n",
    "svc_cm"
   ]
  },
  {
   "cell_type": "code",
   "execution_count": 29,
   "metadata": {
    "pycharm": {
     "name": "#%%\n"
    }
   },
   "outputs": [
    {
     "name": "stdout",
     "output_type": "stream",
     "text": [
      "Support Vector Classifier accuracy: 0.9516129032258065\n"
     ]
    }
   ],
   "source": [
    "print('Support Vector Classifier accuracy:' , accuracy_score(y_test, y_pred_svc))"
   ]
  },
  {
   "cell_type": "code",
   "execution_count": 30,
   "metadata": {
    "pycharm": {
     "name": "#%%\n"
    }
   },
   "outputs": [
    {
     "data": {
      "text/plain": [
       "{'fit_time': array([0.00135875, 0.00110912, 0.00083685, 0.00072503, 0.00076818]),\n",
       " 'score_time': array([0.00040507, 0.00029898, 0.00028419, 0.00026608, 0.00026274]),\n",
       " 'test_score': array([0.9516129 , 0.88709677, 0.95081967, 0.91803279, 0.91803279])}"
      ]
     },
     "execution_count": 30,
     "metadata": {},
     "output_type": "execute_result"
    }
   ],
   "source": [
    "cross_validate(svc_classifier, X, y)"
   ]
  },
  {
   "cell_type": "code",
   "execution_count": 31,
   "metadata": {
    "pycharm": {
     "name": "#%%\n"
    }
   },
   "outputs": [
    {
     "name": "stdout",
     "output_type": "stream",
     "text": [
      "              precision    recall  f1-score   support\n",
      "\n",
      "         Yes       0.94      1.00      0.97        51\n",
      "          No       1.00      0.73      0.84        11\n",
      "\n",
      "    accuracy                           0.95        62\n",
      "   macro avg       0.97      0.86      0.91        62\n",
      "weighted avg       0.95      0.95      0.95        62\n",
      "\n"
     ]
    }
   ],
   "source": [
    "print(classification_report(y_test, y_pred_svc, target_names=['Yes', 'No']))"
   ]
  },
  {
   "cell_type": "code",
   "execution_count": 32,
   "metadata": {
    "pycharm": {
     "name": "#%%\n"
    }
   },
   "outputs": [
    {
     "data": {
      "image/png": "[encoded data removed]",
      "text/plain": [
       "<Figure size 432x288 with 1 Axes>"
      ]
     },
     "metadata": {
      "needs_background": "light"
     },
     "output_type": "display_data"
    }
   ],
   "source": [
    "draw_roc(2, y_test, y_pred_svc, 'ROC - Support Vector Machine')"
   ]
  },
  {
   "cell_type": "code",
   "execution_count": 33,
   "metadata": {
    "pycharm": {
     "name": "#%%\n"
    }
   },
   "outputs": [
    {
     "data": {
      "text/plain": [
       "RandomForestClassifier(criterion='entropy', n_estimators=50)"
      ]
     },
     "execution_count": 33,
     "metadata": {},
     "output_type": "execute_result"
    }
   ],
   "source": [
    "rf_classifier = RandomForestClassifier(n_estimators=50, criterion='entropy')\n",
    "rf_classifier.fit(X_train, y_train)"
   ]
  },
  {
   "cell_type": "code",
   "execution_count": 34,
   "metadata": {
    "pycharm": {
     "name": "#%%\n"
    }
   },
   "outputs": [],
   "source": [
    "y_pred_rf = rf_classifier.predict(X_test)"
   ]
  },
  {
   "cell_type": "code",
   "execution_count": 35,
   "metadata": {
    "pycharm": {
     "name": "#%%\n"
    }
   },
   "outputs": [
    {
     "data": {
      "text/plain": [
       "array([[49,  2],\n",
       "       [ 1, 10]])"
      ]
     },
     "execution_count": 35,
     "metadata": {},
     "output_type": "execute_result"
    }
   ],
   "source": [
    "rf_cm = confusion_matrix(y_test, y_pred_rf)\n",
    "rf_cm"
   ]
  },
  {
   "cell_type": "code",
   "execution_count": 36,
   "metadata": {
    "pycharm": {
     "name": "#%%\n"
    }
   },
   "outputs": [
    {
     "name": "stdout",
     "output_type": "stream",
     "text": [
      "Random Forest accuracy: 0.9516129032258065\n"
     ]
    }
   ],
   "source": [
    "print('Random Forest accuracy:' , accuracy_score(y_test, y_pred_rf))"
   ]
  },
  {
   "cell_type": "code",
   "execution_count": 37,
   "metadata": {
    "pycharm": {
     "name": "#%%\n"
    }
   },
   "outputs": [
    {
     "data": {
      "text/plain": [
       "{'fit_time': array([0.05074501, 0.04718113, 0.04675698, 0.04675484, 0.04638004]),\n",
       " 'score_time': array([0.0035181 , 0.00347805, 0.00345683, 0.00349212, 0.0034399 ]),\n",
       " 'test_score': array([0.9516129 , 0.85483871, 0.91803279, 0.90163934, 0.93442623])}"
      ]
     },
     "execution_count": 37,
     "metadata": {},
     "output_type": "execute_result"
    }
   ],
   "source": [
    "cross_validate(rf_classifier, X, y)"
   ]
  },
  {
   "cell_type": "code",
   "execution_count": 38,
   "metadata": {
    "pycharm": {
     "name": "#%%\n"
    }
   },
   "outputs": [
    {
     "name": "stdout",
     "output_type": "stream",
     "text": [
      "              precision    recall  f1-score   support\n",
      "\n",
      "         Yes       0.98      0.96      0.97        51\n",
      "          No       0.83      0.91      0.87        11\n",
      "\n",
      "    accuracy                           0.95        62\n",
      "   macro avg       0.91      0.93      0.92        62\n",
      "weighted avg       0.95      0.95      0.95        62\n",
      "\n"
     ]
    }
   ],
   "source": [
    "print(classification_report(y_test, y_pred_rf, target_names=['Yes', 'No']))"
   ]
  },
  {
   "cell_type": "code",
   "execution_count": 39,
   "metadata": {
    "pycharm": {
     "name": "#%%\n"
    }
   },
   "outputs": [
    {
     "data": {
      "image/png": "[encoded data removed]",
      "text/plain": [
       "<Figure size 432x288 with 1 Axes>"
      ]
     },
     "metadata": {
      "needs_background": "light"
     },
     "output_type": "display_data"
    }
   ],
   "source": [
    "draw_roc(2, y_test, y_pred_rf, 'ROC - Random Forest')"
   ]
  },
  {
   "cell_type": "code",
   "execution_count": null,
   "metadata": {
    "pycharm": {
     "name": "#%%\n"
    }
   },
   "outputs": [],
   "source": [
    "\n",
    "\n"
   ]
  },
  {
   "cell_type": "code",
   "execution_count": null,
   "outputs": [],
   "source": [],
   "metadata": {
    "collapsed": false,
    "pycharm": {
     "name": "#%%\n"
    }
   }
  },
  {
   "cell_type": "code",
   "execution_count": null,
   "outputs": [],
   "source": [],
   "metadata": {
    "collapsed": false,
    "pycharm": {
     "name": "#%%\n"
    }
   }
  },
  {
   "cell_type": "code",
   "execution_count": null,
   "outputs": [],
   "source": [],
   "metadata": {
    "collapsed": false,
    "pycharm": {
     "name": "#%%\n"
    }
   }
  },
  {
   "cell_type": "code",
   "execution_count": null,
   "metadata": {
    "pycharm": {
     "name": "#%%\n"
    }
   },
   "outputs": [],
   "source": []
  },
  {
   "cell_type": "code",
   "execution_count": null,
   "metadata": {
    "pycharm": {
     "name": "#%%\n"
    }
   },
   "outputs": [],
   "source": []
  },
  {
   "cell_type": "code",
   "execution_count": null,
   "metadata": {
    "pycharm": {
     "name": "#%%\n"
    }
   },
   "outputs": [],
   "source": []
  },
  {
   "cell_type": "code",
   "execution_count": null,
   "metadata": {},
   "outputs": [],
   "source": []
  },
  {
   "cell_type": "code",
   "execution_count": null,
   "metadata": {},
   "outputs": [],
   "source": []
  },
  {
   "cell_type": "code",
   "execution_count": null,
   "metadata": {},
   "outputs": [],
   "source": []
  }
 ],
 "metadata": {
  "kernelspec": {
   "display_name": "Python 3",
   "language": "python",
   "name": "python3"
  },
  "language_info": {
   "codemirror_mode": {
    "name": "ipython",
    "version": 3
   },
   "file_extension": ".py",
   "mimetype": "text/x-python",
   "name": "python",
   "nbconvert_exporter": "python",
   "pygments_lexer": "ipython3",
   "version": "3.8.0"
  }
 },
 "nbformat": 4,
 "nbformat_minor": 1
}